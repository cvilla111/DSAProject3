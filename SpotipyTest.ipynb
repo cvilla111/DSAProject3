{
 "cells": [
  {
   "cell_type": "code",
   "execution_count": null,
   "id": "1406fb51",
   "metadata": {},
   "outputs": [],
   "source": [
    "import spotipy\n",
    "from spotipy.oauth2 import SpotifyOAuth\n",
    "\n",
    "sp = spotipy.Spotify(auth_manager=SpotifyOAuth(client_id=\"797b22135893422ab981597948963843\",\n",
    "                                               client_secret=\"80f412c2e1fa4a6999d52767d3d5fc7b\",\n",
    "                                               redirect_uri=\"http://127.0.0.1:7146/callback\",\n",
    "                                               scope=\"user-library-read\"\n",
    "                                               ))\n",
    "\n"
   ]
  },
  {
   "cell_type": "code",
   "execution_count": null,
   "id": "ae19e58e",
   "metadata": {},
   "outputs": [
    {
     "name": "stdout",
     "output_type": "stream",
     "text": [
      "THE TORTURED POETS DEPARTMENT: THE ANTHOLOGY\n",
      "THE TORTURED POETS DEPARTMENT\n",
      "1989 (Taylor's Version) [Deluxe]\n",
      "1989 (Taylor's Version)\n",
      "Speak Now (Taylor's Version)\n",
      "Midnights (The Til Dawn Edition)\n",
      "Midnights (3am Edition)\n",
      "Midnights\n",
      "Red (Taylor's Version)\n",
      "Fearless (Taylor's Version)\n",
      "evermore (deluxe version)\n",
      "evermore\n",
      "folklore: the long pond studio sessions (from the Disney+ special) [deluxe edition]\n",
      "folklore (deluxe version)\n",
      "folklore\n",
      "Lover\n",
      "Taylor Swift Karaoke: reputation\n",
      "reputation\n",
      "reputation Stadium Tour Surprise Song Playlist\n",
      "1989 (Deluxe Edition)\n",
      "1989\n",
      "Red (Deluxe Edition)\n",
      "Red\n",
      "Speak Now World Tour Live\n",
      "Speak Now (Deluxe Edition)\n",
      "Speak Now\n",
      "Fearless Platinum Edition\n",
      "Fearless\n",
      "Live From Clear Channel Stripped 2008\n",
      "Taylor Swift\n"
     ]
    }
   ],
   "source": [
    "\n",
    "#Sample API call\n",
    "taylor_uri = 'spotify:artist:06HL4z0CvFAxyc27GXpf02'\n",
    "results = sp.artist_albums(taylor_uri, album_type='album')\n",
    "\n",
    "albums = results['items']\n",
    "while results['next']:\n",
    "    results = sp.next(results)\n",
    "    albums.extend(results['items'])\n",
    "\n",
    "for album in albums:\n",
    "    print(album['name'])"
   ]
  },
  {
   "cell_type": "code",
   "execution_count": null,
   "id": "e2e8d420",
   "metadata": {},
   "outputs": [
    {
     "data": {
      "text/html": [
       "<div style=\"display:inline-block; text-align:center; margin:10px;\"><img src=\"https://t.scdn.co/images/ee9451b3ed474c82b1da8f9b5eafc88f.jpeg\" width=\"150\"><br><span>Alternative</span></div><div style=\"display:inline-block; text-align:center; margin:10px;\"><img src=\"https://t.scdn.co/media/derived/travel-274x274_1e89cd5b42cf8bd2ff8fc4fb26f2e955_0_0_274_274.jpg\" width=\"150\"><br><span>Travel</span></div><div style=\"display:inline-block; text-align:center; margin:10px;\"><img src=\"https://t.scdn.co/images/495fadcefe234607b14b2db3381f3f5d.jpeg\" width=\"150\"><br><span>Caribbean</span></div><div style=\"display:inline-block; text-align:center; margin:10px;\"><img src=\"https://t.scdn.co/images/b505b01bbe0e490cbe43b07f16212892.jpeg\" width=\"150\"><br><span>Afro</span></div><div style=\"display:inline-block; text-align:center; margin:10px;\"><img src=\"https://t.scdn.co/images/dd784b78559f4f1d8ef0e833c7db5db3\" width=\"150\"><br><span>Songwriters</span></div><div style=\"display:inline-block; text-align:center; margin:10px;\"><img src=\"https://t.scdn.co/images/728ed47fc1674feb95f7ac20236eb6d7.jpeg\" width=\"150\"><br><span>Nature & Noise</span></div><div style=\"display:inline-block; text-align:center; margin:10px;\"><img src=\"https://t.scdn.co/images/f4f0987fcab446fcaa7173acb5e25701.jpeg\" width=\"150\"><br><span>Funk & Disco</span></div><div style=\"display:inline-block; text-align:center; margin:10px;\"><img src=\"https://t.scdn.co/images/986a6f23-b61b-43c5-85dd-c66cc66e0f40.jpg\" width=\"150\"><br><span>Spotify Singles</span></div><div style=\"display:inline-block; text-align:center; margin:10px;\"><img src=\"https://t.scdn.co/images/16e40e64d2a74fa8a0a020d456e6541d.jpeg\" width=\"150\"><br><span>Fresh Finds</span></div><div style=\"display:inline-block; text-align:center; margin:10px;\"><img src=\"https://i.scdn.co/image/ab67fb8200005cafed2d384c6d8708dc5394fc68\" width=\"150\"><br><span>RADAR</span></div><div style=\"display:inline-block; text-align:center; margin:10px;\"><img src=\"https://t.scdn.co/images/3710b68657574bc79df14bd74629e5ac\" width=\"150\"><br><span>Wellness</span></div><div style=\"display:inline-block; text-align:center; margin:10px;\"><img src=\"https://t.scdn.co/images/b4182906bf244b4994805084c057e9ee.jpeg\" width=\"150\"><br><span>Tastemakers</span></div><div style=\"display:inline-block; text-align:center; margin:10px;\"><img src=\"https://t.scdn.co/images/0c70e480b55c41858ebcc47061ebcb45.jpeg\" width=\"150\"><br><span>Arab</span></div>"
      ],
      "text/plain": [
       "<IPython.core.display.HTML object>"
      ]
     },
     "metadata": {},
     "output_type": "display_data"
    },
    {
     "name": "stderr",
     "output_type": "stream",
     "text": [
      "HTTP Error for GET to https://api.spotify.com/v1/recommendations/available-genre-seeds with Params: {} returned 404 due to None\n"
     ]
    },
    {
     "name": "stdout",
     "output_type": "stream",
     "text": [
      "http status: 404, code: -1 - https://api.spotify.com/v1/recommendations/available-genre-seeds:\n",
      " None, reason: None\n"
     ]
    }
   ],
   "source": [
    "from spotipy import Spotify\n",
    "from spotipy.oauth2 import SpotifyClientCredentials\n",
    "from spotipy.exceptions import SpotifyException\n",
    "from IPython.display import display, HTML\n",
    "\n",
    "#Sample JSON request deserialization\n",
    "try:\n",
    "    imageNames = []\n",
    "    imageURIs = []\n",
    "    request = sp.categories(limit = 50, offset = 49)\n",
    "    for x in request['categories']['items']:\n",
    "        imageNames.append(x['name'])\n",
    "        for y in x['icons']:\n",
    "            \n",
    "            imageURIs.append(y['url'])\n",
    "\n",
    "    html = ''.join([\n",
    "    f'<div style=\"display:inline-block; text-align:center; margin:10px;\">'\n",
    "    f'<img src=\"{uri}\" width=\"150\"><br><span>{name}</span></div>'\n",
    "    for name, uri in zip(imageNames, imageURIs)\n",
    "    ])\n",
    "    display(HTML(html))    \n",
    "except SpotifyException as e:\n",
    "    print(e)\n"
   ]
  },
  {
   "cell_type": "code",
   "execution_count": 70,
   "id": "4fc2f317",
   "metadata": {},
   "outputs": [
    {
     "data": {
      "text/html": [
       "\n",
       "    <div style=\"display:inline-block; width:200px; text-align:center; margin:10px;\">\n",
       "        <img src=\"https://i.scdn.co/image/ab67616d0000b2739abdf14e6058bd3903686148\" width=\"200\"><br>\n",
       "        <span style=\"display:block; word-wrap:break-word; white-space:normal;\">1989(2014) by Taylor Swift</span>\n",
       "    </div>\n",
       "    \n",
       "    <div style=\"display:inline-block; width:200px; text-align:center; margin:10px;\">\n",
       "        <img src=\"https://i.scdn.co/image/ab67616d0000b273904445d70d04eb24d6bb79ac\" width=\"200\"><br>\n",
       "        <span style=\"display:block; word-wrap:break-word; white-space:normal;\">1989 (Taylor's Version)(2023) by Taylor Swift</span>\n",
       "    </div>\n",
       "    \n",
       "    <div style=\"display:inline-block; width:200px; text-align:center; margin:10px;\">\n",
       "        <img src=\"https://i.scdn.co/image/ab67616d0000b273dc2bacae1dca83d26e2b1949\" width=\"200\"><br>\n",
       "        <span style=\"display:block; word-wrap:break-word; white-space:normal;\">1989 (Taylor's Version) [Deluxe](2023) by Taylor Swift</span>\n",
       "    </div>\n",
       "    \n",
       "    <div style=\"display:inline-block; width:200px; text-align:center; margin:10px;\">\n",
       "        <img src=\"https://i.scdn.co/image/ab67616d0000b2731aa2d7dad8f5eeb10cceaad0\" width=\"200\"><br>\n",
       "        <span style=\"display:block; word-wrap:break-word; white-space:normal;\">Taylor Swift Karaoke: 1989(2014) by Taylor Swift</span>\n",
       "    </div>\n",
       "    \n",
       "    <div style=\"display:inline-block; width:200px; text-align:center; margin:10px;\">\n",
       "        <img src=\"https://i.scdn.co/image/ab67616d0000b2735102e37c57e2db2afd1862d3\" width=\"200\"><br>\n",
       "        <span style=\"display:block; word-wrap:break-word; white-space:normal;\">Taylor Swift - 1989 (Taylor's Version) - Piano Covers(2023) by Taylor Swift Piano Covers</span>\n",
       "    </div>\n",
       "    \n",
       "    <div style=\"display:inline-block; width:200px; text-align:center; margin:10px;\">\n",
       "        <img src=\"https://i.scdn.co/image/ab67616d0000b2736651e7456ab8714e0e5cfdfc\" width=\"200\"><br>\n",
       "        <span style=\"display:block; word-wrap:break-word; white-space:normal;\">Taylor Swift - 1989 - Piano Covers(2023) by Taylor Swift Piano Covers</span>\n",
       "    </div>\n",
       "    \n",
       "    <div style=\"display:inline-block; width:200px; text-align:center; margin:10px;\">\n",
       "        <img src=\"https://i.scdn.co/image/ab67616d0000b2730432bfd9e6adb616fd8bcc97\" width=\"200\"><br>\n",
       "        <span style=\"display:block; word-wrap:break-word; white-space:normal;\">1989 (Big Machine Radio Release Special)(2014) by Taylor Swift</span>\n",
       "    </div>\n",
       "    \n",
       "    <div style=\"display:inline-block; width:200px; text-align:center; margin:10px;\">\n",
       "        <img src=\"https://i.scdn.co/image/ab67616d0000b273bf2cd5ae696486ff79391f43\" width=\"200\"><br>\n",
       "        <span style=\"display:block; word-wrap:break-word; white-space:normal;\">Taylor Swift - 1989 - Piano Instrumentals(2023) by Taylor Swift Piano Instrumentals</span>\n",
       "    </div>\n",
       "    \n",
       "    <div style=\"display:inline-block; width:200px; text-align:center; margin:10px;\">\n",
       "        <img src=\"https://i.scdn.co/image/ab67616d0000b273332d85510aba3eb28312cfb2\" width=\"200\"><br>\n",
       "        <span style=\"display:block; word-wrap:break-word; white-space:normal;\">1989 (Deluxe Edition)(2014) by Taylor Swift</span>\n",
       "    </div>\n",
       "    "
      ],
      "text/plain": [
       "<IPython.core.display.HTML object>"
      ]
     },
     "metadata": {},
     "output_type": "display_data"
    }
   ],
   "source": [
    "from spotipy import Spotify\n",
    "from spotipy.oauth2 import SpotifyClientCredentials\n",
    "from spotipy.exceptions import SpotifyException\n",
    "from IPython.display import display, HTML\n",
    "import json\n",
    "\n",
    "#Song tags:\n",
    "\n",
    "query = \"artist:taylor swift,album:1989\"\n",
    "request = sp.search(q = query, type = 'album', limit = 10, offset = 0)\n",
    "#print(json.dumps(request, indent = 2))\n",
    "albumIDs = []\n",
    "albumImages = []\n",
    "\n",
    "#Name (year), artist\n",
    "albumText = []\n",
    "for album in request['albums']['items']:\n",
    "    albumIDs.append(album['id'])\n",
    "\n",
    "    albumImages.append(album['images'][0]['url'])\n",
    "\n",
    "    artists = []\n",
    "    for artist in album['artists']:\n",
    "        artists.append(artist['name'])\n",
    "    albumText.append(f\"{album['name']}({album['release_date'].split('-')[0]}) by {', '.join(artists)}\")\n",
    "\n",
    "html = ''.join([\n",
    "    f'''\n",
    "    <div style=\"display:inline-block; width:200px; text-align:center; margin:10px;\">\n",
    "        <img src=\"{uri}\" width=\"200\"><br>\n",
    "        <span style=\"display:block; word-wrap:break-word; white-space:normal;\">{name}</span>\n",
    "    </div>\n",
    "    '''\n",
    "    for name, uri in zip(albumText, albumImages)\n",
    "])\n",
    "\n",
    "display(HTML(html))        \n",
    "\n"
   ]
  },
  {
   "cell_type": "code",
   "execution_count": null,
   "id": "be63e53e",
   "metadata": {},
   "outputs": [],
   "source": []
  }
 ],
 "metadata": {
  "kernelspec": {
   "display_name": "base",
   "language": "python",
   "name": "python3"
  },
  "language_info": {
   "codemirror_mode": {
    "name": "ipython",
    "version": 3
   },
   "file_extension": ".py",
   "mimetype": "text/x-python",
   "name": "python",
   "nbconvert_exporter": "python",
   "pygments_lexer": "ipython3",
   "version": "3.12.9"
  }
 },
 "nbformat": 4,
 "nbformat_minor": 5
}
